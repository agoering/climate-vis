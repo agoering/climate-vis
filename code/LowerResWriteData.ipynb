{
 "metadata": {
  "name": "LowerResWriteData"
 }, 
 "nbformat": 2, 
 "worksheets": [
  {
   "cells": [
    {
     "cell_type": "code", 
     "collapsed": true, 
     "input": [
      "'''", 
      "This program will read in temperature files and precipitation files with", 
      "resolution of half degree lattitude by half degree longitude; We round the ", 
      "lattitude and longitude values to the nearest integer (easy to do because ", 
      "they are int.25 and int.75) and average the monthly temperature and precipitation", 
      "values for each pair of lattitude and longitude that results", 
      "'''"
     ], 
     "language": "python", 
     "outputs": []
    }, 
    {
     "cell_type": "code", 
     "collapsed": false, 
     "input": [
      "import numpy as np", 
      "import matplotlib.pyplot as plt", 
      "from sets import Set", 
      "import csv", 
      "import collections", 
      "from collections import OrderedDict", 
      "", 
      "## read data into arrays of floats by year", 
      "def readData(textData):", 
      "        infile = open(textData,\"r\") ## read the data file", 
      "        content = infile.read()", 
      "        infile.close()", 
      "        lines = content.split('\\n') ## split up lines", 
      "        data = []", 
      "        for each in lines:  ## split each line into separate strings", 
      "                if len(each) < 1:", 
      "                        continue          ## get rid of the empty list ", 
      "                                          ##at the end", 
      "                row = each.split()", 
      "                tot = 0", 
      "                avg = 0", 
      "                for i in range(2, len(row)):", 
      "                    tot += float(row[i])", 
      "                tot = round(tot, 2)", 
      "                avg = round(tot/12, 2)", 
      "                temp = {'lon':float(row[0]), 'lat':float(row[1]), 'loc':(iround(float(row[0])), iround(float(row[1]))), 'jan':float(row[2]), 'feb':float(row[3]), 'mar':float(row[4]), 'apr':float(row[5]), 'may':float(row[6]), 'jun':float(row[7]), 'jul':float(row[8]), 'aug':float(row[9]), 'sep':float(row[10]), 'oct':float(row[11]), 'nov':float(row[12]), 'dec':float(row[13]), 'avg':avg, 'tot':tot}", 
      "                data.append(temp) ", 
      "##for each year, lattitude, longitude, january - december, total and average ", 
      "        return data", 
      "    ", 
      "## iround(number) -> integer", 
      "## Round a number to the nearest integer", 
      "def iround(x):", 
      "    y = round(x) - .5", 
      "    return int(y) + (y > 0)", 
      "   ", 
      "def precipDuringYear(year):  ## read data during the year of interest", 
      "        temp = readData(\"PrecipData/precip.\"+str(year))", 
      "        return temp", 
      "## list of precipitation data for each year", 
      "", 
      "def temperatureDuringYear(year):  ## read data during the year of interest", 
      "        temp = readData(\"TempData/air_temp.\"+str(year))", 
      "        return temp", 
      "## list of temperature data for each year", 
      "", 
      "## we need to make sure that only new values are tested", 
      "## removing seen values from the procedure reduces the number of operations", 
      "## only unique tuples are considered", 
      "def lowerResolution(dataDict, year, place):", 
      "    writeList = []  ## this will hold data for writing to csv file", 
      "    locationList = []", 
      "    for each in dataDict:", 
      "        locationList.append(each['loc'])  ## consinder the location tuples rounded to nearest integer (lat, lon)", 
      "    locationSet = Set(locationList) ## set will hold only unique tuples of location", 
      "    uniqueList = list(locationSet)   ## this can be modified by removing elements already considered", 
      "    seen = Set()  ## this will record elements that already appeared", 
      "## the resolution will be one degree lattitude by one degree longitude", 
      "## the values that end up at the same resolution are averaged", 
      "    for each in dataDict:", 
      "        count = 0.", 
      "        location = each['loc']", 
      "        temp_lat = each['loc'][0]  ## these are already rounded", 
      "        temp_lon = each['loc'][1]", 
      "        m1=0; m2=0; m3=0; m4=0; m5=0; m6=0; m7=0; m8=0; m9=0; m10=0; m11=0; m12=0", 
      "        if location not in seen:  ## make sure to look only at new elements", 
      "            if location in uniqueList:", 
      "                count += 1.", 
      "                m1 += each['jan']; m2 += each['feb']; m3 += each['mar']; m4 += each['apr']", 
      "                m5 += each['may']; m6 += each['jun']; m7 += each['jul']; m8 += each['aug']", 
      "                m9 += each['sep']; m10 += each['oct']; m11 += each['nov']; m12 += each['dec']", 
      "            m1=m1/count; m2=m2/count; m3=m3/count; m4=m4/count; m5=m5/count; m6=m6/count; m7=m7/count;", 
      "            m8=m8/count; m9=m9/count; m10=m10/count; m11=m11/count; m12=m12/count;", 
      "            tot = m1+m2+m3+m4+m5+m6+m7+m8+m9+m10+m11+m12", 
      "            avg = tot/12.", 
      "            tempDict = OrderedDict([('lon',temp_lon), ('lat',temp_lat), ('jan',m1), ('feb',m2), ('mar',m3), ('apr',m4), ('may',m5), ('jun',m6), ('jul',m7), ('aug',m8), ('sep',m9), ('oct',m10), ('nov',m11), ('dec',m12), ('tot',tot), ('avg',avg)])", 
      "            seen.add(location)  ## don't want to look at these again", 
      "            uniqueList.remove(location) ## values not to be considered again", 
      "            writeList.append(tempDict.values())", 
      "            ", 
      "    with open(place+str(year)+'.csv', 'wb') as f:", 
      "        wtr = csv.writer(f, delimiter= ' ')", 
      "        wtr.writerows(writeList)"
     ], 
     "language": "python", 
     "outputs": [], 
     "prompt_number": 34
    }, 
    {
     "cell_type": "code", 
     "collapsed": false, 
     "input": [
      "for i in range(0, 11):  ## converting to csv file of one degree by one degree data", 
      "    yr = 2000 + i", 
      "    lowerResolution(temperatureDuringYear(yr), yr, 'TempLowResData/tempLowRes') ## these will be dictionaries", 
      "    lowerResolution(precipDuringYear(yr), yr, 'PrecipLowResData/precipLowRes')"
     ], 
     "language": "python", 
     "outputs": [], 
     "prompt_number": 48
    }, 
    {
     "cell_type": "code", 
     "collapsed": false, 
     "input": [
      "exDict = OrderedDict([('a',5),('b',7),('c',9)])", 
      "exList = list(exDict.values())", 
      "print exList"
     ], 
     "language": "python", 
     "outputs": [
      {
       "output_type": "stream", 
       "stream": "stdout", 
       "text": [
        "[5, 7, 9]"
       ]
      }
     ], 
     "prompt_number": 10
    }, 
    {
     "cell_type": "code", 
     "collapsed": true, 
     "input": [], 
     "language": "python", 
     "outputs": []
    }
   ]
  }
 ]
}