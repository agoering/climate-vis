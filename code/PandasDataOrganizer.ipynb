{
 "metadata": {
  "name": ""
 },
 "nbformat": 3,
 "nbformat_minor": 0,
 "worksheets": [
  {
   "cells": [
    {
     "cell_type": "heading",
     "level": 1,
     "metadata": {},
     "source": [
      "Using Pandas to Organize Data"
     ]
    },
    {
     "cell_type": "heading",
     "level": 3,
     "metadata": {},
     "source": [
      "Preamble"
     ]
    },
    {
     "cell_type": "code",
     "collapsed": false,
     "input": [
      "import pandas as pd\n",
      "import matplotlib.pyplot as plt\n",
      "import matplotlib\n",
      "%matplotlib inline"
     ],
     "language": "python",
     "metadata": {},
     "outputs": [],
     "prompt_number": 1
    },
    {
     "cell_type": "heading",
     "level": 3,
     "metadata": {},
     "source": [
      "Read-in Function: for CO2, precipitation, and air temperature. Use this by itself if you want to explore/manipulate data."
     ]
    },
    {
     "cell_type": "code",
     "collapsed": false,
     "input": [
      "# Reads in by filepath, adds headers and annual average column. \n",
      "def pandaRead(variable,year):\n",
      "    '''Takes data string variables air_temp, precip, or CO2 and integer years 1900 to 2010'''\n",
      "    if variable=='precip' or variable=='air_temp':\n",
      "        file_path = '../data/'+variable+'Data/'+variable+'.'+str(year)\n",
      "        # Latitude, longitude in degrees. \n",
      "        # Total monthly precip in mm or monthly air temp in Celsius.\n",
      "        header = ['Longitude', 'Latitude', 'January', 'February', 'March', \\\n",
      "        'April', 'May', 'June', 'July','August', 'September', 'October', \\\n",
      "        'November', 'December']\n",
      "        df = pd.read_table(file_path,sep='\\s*', names = header)\n",
      "        df[str(year)+' Annual Average'] = df[['January','February', 'March', \\\n",
      "        'April', 'May', 'June', 'July','August', 'September', 'October', \\\n",
      "        'November', 'December']].mean(1)\n",
      "    elif variable=='CO2':\n",
      "        file_path = '../data/CO2Data/grid'+str(year)+'.csv'\n",
      "        header = ['Longitude','Latitude',str(year)+' Annual Average']\n",
      "        df = pd.read_table(file_path,sep='\\s*',names=header)\n",
      "    else:\n",
      "        print variable+\" is not a valid variable.\"\n",
      "    return df"
     ],
     "language": "python",
     "metadata": {},
     "outputs": [],
     "prompt_number": 206
    },
    {
     "cell_type": "heading",
     "level": 3,
     "metadata": {},
     "source": [
      "CO2 data must be merged, since not all of the files have the same Longitude, Latitude points:"
     ]
    },
    {
     "cell_type": "code",
     "collapsed": false,
     "input": [
      "def pandaMergeCO2(begin,end):\n",
      "    \"\"\"begin,end are years\"\"\"\n",
      "    data = {year: pandaRead('CO2',year) for year in range(begin,end+1)}\n",
      "    yr = begin\n",
      "    merged = data[begin]\n",
      "    while yr < end:\n",
      "        merged = pd.merge(merged,data[yr+1],how='outer')\n",
      "        yr += 1\n",
      "    return merged\n",
      "\n",
      "def writeCO2CSV(begin,end):\n",
      "    \"\"\"begin,end are years\"\"\"\n",
      "    data = pandaMergeCO2(begin,end)\n",
      "    "
     ],
     "language": "python",
     "metadata": {},
     "outputs": [],
     "prompt_number": 198
    },
    {
     "cell_type": "heading",
     "level": 3,
     "metadata": {},
     "source": [
      "This makes a frame of (Longitude, Latitude, average values by year) for all variables. "
     ]
    },
    {
     "cell_type": "code",
     "collapsed": false,
     "input": [
      "# Given a range of years, generates dictionary of filenames for output csv files in \"names\" and dataframe objects in \"frames\"\n",
      "# More importantly, returns a single dataframe that contains the average for the variable called over the range of years defined\n",
      "def makeAvgFrame(variable,begin,end):\n",
      "    \"\"\"variable: 'precip' or 'air_temp', begin, end are years from 1900-2010 inclusive\"\"\"\n",
      "    \n",
      "#     names = {year: '../data/'+variable+'Avg/'+variable+str(year)+'.csv' for year in range(begin,end+1)}\n",
      "\n",
      "    if variable=='precip' or variable=='air_temp':\n",
      "        frames = {year: pandaRead(variable,year) for year in range(begin,end+1)}\n",
      "        avg = pd.DataFrame(frames[begin]['Longitude'])\n",
      "        avg['Latitude'] = frames[begin]['Latitude']\n",
      "        for year in range(begin,end+1):\n",
      "            avg[str(year)+' Annual Average'] = frames[year][str(year)+' Annual Average']\n",
      "    \n",
      "    elif variable=='CO2':\n",
      "        avg = pandaMergeCO2(begin,end)\n",
      "    \n",
      "    else:\n",
      "        print \"not a valid variable name\"\n",
      "    return avg\n",
      "\n",
      "def writeAvgCSV(variable,begin,end):\n",
      "    data = makeAvgFrame(variable,begin,end)\n",
      "    data.to_csv('../data/'+variable+'Avg/'+variable+'_'+str(begin)+'_to_'+str(end)+'.csv')"
     ],
     "language": "python",
     "metadata": {},
     "outputs": [],
     "prompt_number": 202
    },
    {
     "cell_type": "heading",
     "level": 3,
     "metadata": {},
     "source": [
      "Writing to CSV"
     ]
    },
    {
     "cell_type": "code",
     "collapsed": false,
     "input": [
      "writeAvgCSV('CO2',2000,2005)\n",
      "writeAvgCSV('precip',2000,2005)\n",
      "writeAvgCSV('air_temp',2000,2005)"
     ],
     "language": "python",
     "metadata": {},
     "outputs": [],
     "prompt_number": 205
    },
    {
     "cell_type": "code",
     "collapsed": false,
     "input": [
      "writeAvgCSV('CO2',1900,2010)"
     ],
     "language": "python",
     "metadata": {},
     "outputs": [],
     "prompt_number": 204
    },
    {
     "cell_type": "code",
     "collapsed": false,
     "input": [
      "writeAvgCSV('precip',1900,2010)"
     ],
     "language": "python",
     "metadata": {},
     "outputs": [],
     "prompt_number": 84
    },
    {
     "cell_type": "code",
     "collapsed": false,
     "input": [
      "writeAvgCSV('air_temp',1900,2010)"
     ],
     "language": "python",
     "metadata": {},
     "outputs": [],
     "prompt_number": 116
    }
   ],
   "metadata": {}
  }
 ]
}