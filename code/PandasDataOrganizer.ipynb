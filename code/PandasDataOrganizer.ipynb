{
 "metadata": {
  "name": ""
 },
 "nbformat": 3,
 "nbformat_minor": 0,
 "worksheets": [
  {
   "cells": [
    {
     "cell_type": "heading",
     "level": 1,
     "metadata": {},
     "source": [
      "Using Pandas to Organize Data"
     ]
    },
    {
     "cell_type": "heading",
     "level": 3,
     "metadata": {},
     "source": [
      "Preamble"
     ]
    },
    {
     "cell_type": "code",
     "collapsed": false,
     "input": [
      "import pandas as pd\n",
      "import matplotlib.pyplot as plt\n",
      "import matplotlib\n",
      "%matplotlib inline"
     ],
     "language": "python",
     "metadata": {},
     "outputs": [],
     "prompt_number": 2
    },
    {
     "cell_type": "heading",
     "level": 3,
     "metadata": {},
     "source": [
      "Read-in Function: for CO2, precipitation, and air temperature. Use this by itself if you want to explore/manipulate data."
     ]
    },
    {
     "cell_type": "code",
     "collapsed": false,
     "input": [
      "# Reads in by filepath, adds headers and annual average column. \n",
      "def pandaRead(variable,year,res):\n",
      "    '''Takes data string variables air_temp, precip, or CO2, \n",
      "       integer years 1900 to 2010, and resolution variable 1 or 0.5'''\n",
      "    if variable=='precip' or variable=='air_temp':\n",
      "        if res == 0.5:\n",
      "            file_path = '../data/'+variable+'Data/'+variable+'.'+str(year)\n",
      "            # Latitude, longitude in degrees. \n",
      "            # Total monthly precip in mm or monthly air temp in Celsius.\n",
      "            header = ['Longitude', 'Latitude', 'January', 'February', 'March', \\\n",
      "            'April', 'May', 'June', 'July','August', 'September', 'October', \\\n",
      "            'November', 'December']\n",
      "            df = pd.read_table(file_path,sep='\\s*', names = header)\n",
      "            df[str(year)+' Annual Average'] = df[['January','February', 'March', \\\n",
      "            'April', 'May', 'June', 'July','August', 'September', 'October', \\\n",
      "            'November', 'December']].mean(1)\n",
      "        elif res == 1:\n",
      "            file_path = '../data/'+variable+'LowResData/'\\\n",
      "            +variable+'LowRes'+str(year)+'.csv'\n",
      "            # Low Res data has Total, Average already.\n",
      "            header = ['Longitude', 'Latitude', 'January', 'February', 'March', \\\n",
      "            'April', 'May', 'June', 'July','August', 'September', 'October', \\\n",
      "            'November', 'December','Yearly Total','Annual Average']\n",
      "            df = pd.read_table(file_path,sep='\\s*', names = header)\n",
      "    elif variable=='CO2':\n",
      "        if res == 1:\n",
      "            file_path = '../data/CO2Data/grid'+str(year)+'.csv'\n",
      "            header = ['Longitude','Latitude',str(year)+' Yearly Total']\n",
      "            df = pd.read_table(file_path,sep='\\s*',names=header)\n",
      "        else:\n",
      "            print res+\" is not a valid resolution for CO2 data.\"\n",
      "    else:\n",
      "        print variable+\" is not a valid variable.\"\n",
      "    return df"
     ],
     "language": "python",
     "metadata": {},
     "outputs": [],
     "prompt_number": 30
    },
    {
     "cell_type": "heading",
     "level": 3,
     "metadata": {},
     "source": [
      "This makes a frame of (Longitude, Latitude, total values by year) for precip, CO2 and annual average for temperature. "
     ]
    },
    {
     "cell_type": "code",
     "collapsed": false,
     "input": [
      "# Creates a single dataframe of CO2 data using panda's merge function\n",
      "# We have to use merge since not all of the files have the same Longitude, Latitude points.\n",
      "def pandaMergeCO2(begin,end,res):\n",
      "    \"\"\"begin,end are years\"\"\"\n",
      "    data = {year: pandaRead('CO2',year,res) for year in range(begin,end+1)}\n",
      "    yr = begin\n",
      "    merged = data[begin]\n",
      "    while yr < end:\n",
      "        merged = pd.merge(merged,data[yr+1],how='outer')\n",
      "        yr += 1\n",
      "    return merged\n",
      "\n",
      "# Returns a single dataframe that contains the average/total for the variable called \n",
      "# over the range of years defined and resolution desired\n",
      "def makeFrame(variable,begin,end,res):\n",
      "    \"\"\"variable: 'precip' or 'air_temp', begin, end are years from 1900-2010 inclusive\"\"\"\n",
      "    \n",
      "    if variable=='air_temp':\n",
      "        frames = {year: pandaRead(variable,year,res) for year in range(begin,end+1)}\n",
      "        avg = pd.DataFrame(frames[begin]['Longitude'])\n",
      "        avg['Latitude'] = frames[begin]['Latitude']\n",
      "        if res==0.5:\n",
      "            for year in range(begin,end+1):\n",
      "                avg[str(year)+' Annual Average'] = frames[year][str(year)+' Annual Average']\n",
      "        elif res==1:\n",
      "            for year in range(begin,end+1):\n",
      "                avg[str(year)+' Annual Average'] = frames[year]['Annual Average']\n",
      "    elif variable=='precip':\n",
      "        frames = {year: pandaRead(variable,year,res) for year in range(begin,end+1)}\n",
      "        avg = pd.DataFrame(frames[begin]['Longitude'])\n",
      "        avg['Latitude'] = frames[begin]['Latitude']\n",
      "        if res==0.5:\n",
      "            for year in range(begin,end+1):\n",
      "                avg[str(year)+' Yearly Total'] = frames[year][str(year)+' Yearly Total']\n",
      "        elif res==1:\n",
      "            for year in range(begin,end+1):\n",
      "                avg[str(year)+' Yearly Total'] = frames[year]['Yearly Total']\n",
      "    elif variable=='CO2':\n",
      "        avg = pandaMergeCO2(begin,end,res)\n",
      "    else:\n",
      "        print \"not a valid variable name\"\n",
      "    return avg\n",
      "\n",
      "# Write CSV file using makeFrame function\n",
      "def writeCSV(variable,begin,end,res):\n",
      "    \"\"\"variable: 'precip' or 'air_temp', begin, end are years from 1900-2010 inclusive\"\"\"\n",
      "    data = makeFrame(variable,begin,end,res)\n",
      "    data.to_csv('../data/'+variable+'Avg/'+variable+'_'+str(begin)+'_to_'+str(end)+'res_'+str(res)+'.csv')"
     ],
     "language": "python",
     "metadata": {},
     "outputs": [],
     "prompt_number": 32
    },
    {
     "cell_type": "heading",
     "level": 3,
     "metadata": {},
     "source": [
      "Writing CSV files and look at data ranges, for 1 degree latitude, longitude resolution"
     ]
    },
    {
     "cell_type": "code",
     "collapsed": false,
     "input": [
      "writeCSV('CO2',1900,2010,1)"
     ],
     "language": "python",
     "metadata": {},
     "outputs": [],
     "prompt_number": 52
    },
    {
     "cell_type": "code",
     "collapsed": false,
     "input": [
      "writeCSV('precip',1900,2010,1)"
     ],
     "language": "python",
     "metadata": {},
     "outputs": [],
     "prompt_number": 34
    },
    {
     "cell_type": "code",
     "collapsed": false,
     "input": [
      "writeCSV('air_temp',1900,2010,1)"
     ],
     "language": "python",
     "metadata": {},
     "outputs": [],
     "prompt_number": 36
    },
    {
     "cell_type": "code",
     "collapsed": false,
     "input": [
      "pdata = makeFrame('precip',1900,2010,1)"
     ],
     "language": "python",
     "metadata": {},
     "outputs": [],
     "prompt_number": 45
    },
    {
     "cell_type": "code",
     "collapsed": false,
     "input": [
      "# Yearly Total Precipitation Minimum, Maximum\n",
      "pd.value_range(pdata.iloc[:,2:])"
     ],
     "language": "python",
     "metadata": {},
     "outputs": [
      {
       "metadata": {},
       "output_type": "pyout",
       "prompt_number": 48,
       "text": [
        "Minimum        0.0\n",
        "Maximum    19451.8\n",
        "dtype: float64"
       ]
      }
     ],
     "prompt_number": 48
    },
    {
     "cell_type": "code",
     "collapsed": false,
     "input": [
      "adata = makeFrame('air_temp',1900,2010,1)"
     ],
     "language": "python",
     "metadata": {},
     "outputs": [],
     "prompt_number": 46
    },
    {
     "cell_type": "code",
     "collapsed": false,
     "input": [
      "# Annual Average Temperature Minimum, Maximum\n",
      "pd.value_range(adata.iloc[:,2:])"
     ],
     "language": "python",
     "metadata": {},
     "outputs": [
      {
       "metadata": {},
       "output_type": "pyout",
       "prompt_number": 49,
       "text": [
        "Minimum   -62.925000\n",
        "Maximum    36.516667\n",
        "dtype: float64"
       ]
      }
     ],
     "prompt_number": 49
    },
    {
     "cell_type": "code",
     "collapsed": false,
     "input": [
      "cdata = makeFrame('CO2',1900,2010,1)"
     ],
     "language": "python",
     "metadata": {},
     "outputs": [],
     "prompt_number": 53
    },
    {
     "cell_type": "code",
     "collapsed": false,
     "input": [
      "# Yearly Total CO2 Minimum, Maximum\n",
      "pd.value_range(cdata.iloc[:,2:])"
     ],
     "language": "python",
     "metadata": {},
     "outputs": [
      {
       "metadata": {},
       "output_type": "pyout",
       "prompt_number": 54,
       "text": [
        "Minimum    -0.000000\n",
        "Maximum    74.095327\n",
        "dtype: float64"
       ]
      }
     ],
     "prompt_number": 54
    }
   ],
   "metadata": {}
  }
 ]
}