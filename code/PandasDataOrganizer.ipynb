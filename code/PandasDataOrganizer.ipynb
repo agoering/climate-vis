{
 "metadata": {
  "name": ""
 },
 "nbformat": 3,
 "nbformat_minor": 0,
 "worksheets": [
  {
   "cells": [
    {
     "cell_type": "heading",
     "level": 1,
     "metadata": {},
     "source": [
      "Using Pandas to Organize Data"
     ]
    },
    {
     "cell_type": "code",
     "collapsed": false,
     "input": [
      "# preamble\n",
      "import pandas as pd\n",
      "import matplotlib.pyplot as plt\n",
      "import matplotlib\n",
      "%matplotlib inline"
     ],
     "language": "python",
     "metadata": {},
     "outputs": [],
     "prompt_number": 1
    },
    {
     "cell_type": "code",
     "collapsed": false,
     "input": [
      "# read in temp/precip data: define file path and what we want our headers to be, add an annual average column\n",
      "def pandaRead(variable,year):\n",
      "    '''Takes data string variables air_temp or precip and years 1901 to 2009'''\n",
      "    if variable=='precip' or variable=='air_temp':\n",
      "        file_path = '../data/'+variable+'Data/'+variable+'.'+str(year)\n",
      "        # Latitude, longitude in degrees. \n",
      "        # Total monthly precip in mm or monthly air temp in Celsius.\n",
      "        header = ['Longitude', 'Latitude', 'January', 'February', 'March', \\\n",
      "        'April', 'May', 'June', 'July','August', 'September', 'October', \\\n",
      "        'November', 'December']\n",
      "        df = pd.read_table(file_path,sep='\\s*', names = header)\n",
      "        df['Annual Average'] = df[['January','February', 'March', \\\n",
      "        'April', 'May', 'June', 'July','August', 'September', 'October', \\\n",
      "        'November', 'December']].mean(1)\n",
      "    return df\n",
      "\n",
      "#read in CO2 data: define file path, header, and annual average column\n",
      "def CO2Read(year):\n",
      "    \"\"\"Takes year as integer years from 1751 to 2010\"\"\"\n",
      "    file_path = '../data/gridiso/gridiso.'+str(year)\n",
      "    print file_path"
     ],
     "language": "python",
     "metadata": {},
     "outputs": [],
     "prompt_number": 56
    },
    {
     "cell_type": "code",
     "collapsed": false,
     "input": [
      "CO2Read(1751)"
     ],
     "language": "python",
     "metadata": {},
     "outputs": [
      {
       "output_type": "stream",
       "stream": "stdout",
       "text": [
        "../data/gridiso/gridiso.1751\n"
       ]
      }
     ],
     "prompt_number": 57
    },
    {
     "cell_type": "code",
     "collapsed": false,
     "input": [
      "# Given a range of years, generates dictionary of filenames for output csv files in \"names\" and dataframe objects in \"frames\"\n",
      "names = {year: '../data/precipAvg/precip'+str(year)+'.csv' for year in range(2000,2005)}\n",
      "frames = {year: pandaRead('precip',year) for year in range(2000,2005)}"
     ],
     "language": "python",
     "metadata": {},
     "outputs": [],
     "prompt_number": 16
    },
    {
     "cell_type": "code",
     "collapsed": false,
     "input": [
      "names[2004]"
     ],
     "language": "python",
     "metadata": {},
     "outputs": [
      {
       "metadata": {},
       "output_type": "pyout",
       "prompt_number": 21,
       "text": [
        "'../data/precipAvg/precip2004.csv'"
       ]
      }
     ],
     "prompt_number": 21
    },
    {
     "cell_type": "code",
     "collapsed": false,
     "input": [
      "frames[2004].head()"
     ],
     "language": "python",
     "metadata": {},
     "outputs": [
      {
       "html": [
        "<div style=\"max-height:1000px;max-width:1500px;overflow:auto;\">\n",
        "<table border=\"1\" class=\"dataframe\">\n",
        "  <thead>\n",
        "    <tr style=\"text-align: right;\">\n",
        "      <th></th>\n",
        "      <th>Longitude</th>\n",
        "      <th>Latitude</th>\n",
        "      <th>January</th>\n",
        "      <th>February</th>\n",
        "      <th>March</th>\n",
        "      <th>April</th>\n",
        "      <th>May</th>\n",
        "      <th>June</th>\n",
        "      <th>July</th>\n",
        "      <th>August</th>\n",
        "      <th>September</th>\n",
        "      <th>October</th>\n",
        "      <th>November</th>\n",
        "      <th>December</th>\n",
        "      <th>Annual Average</th>\n",
        "    </tr>\n",
        "  </thead>\n",
        "  <tbody>\n",
        "    <tr>\n",
        "      <th>0</th>\n",
        "      <td>-179.75</td>\n",
        "      <td> 71.25</td>\n",
        "      <td>  0.0</td>\n",
        "      <td>  2.3</td>\n",
        "      <td> 5.5</td>\n",
        "      <td>  3.5</td>\n",
        "      <td> 38.9</td>\n",
        "      <td>  0.0</td>\n",
        "      <td> 35.8</td>\n",
        "      <td> 17.1</td>\n",
        "      <td>  5.9</td>\n",
        "      <td>  39.4</td>\n",
        "      <td> 26.5</td>\n",
        "      <td> 22.6</td>\n",
        "      <td> 16.458333</td>\n",
        "    </tr>\n",
        "    <tr>\n",
        "      <th>1</th>\n",
        "      <td>-179.75</td>\n",
        "      <td> 68.75</td>\n",
        "      <td> 10.4</td>\n",
        "      <td>  4.9</td>\n",
        "      <td> 7.7</td>\n",
        "      <td> 12.9</td>\n",
        "      <td> 46.4</td>\n",
        "      <td>  2.7</td>\n",
        "      <td> 67.8</td>\n",
        "      <td> 13.3</td>\n",
        "      <td> 14.5</td>\n",
        "      <td>  59.8</td>\n",
        "      <td> 57.3</td>\n",
        "      <td> 27.5</td>\n",
        "      <td> 27.100000</td>\n",
        "    </tr>\n",
        "    <tr>\n",
        "      <th>2</th>\n",
        "      <td>-179.75</td>\n",
        "      <td> 68.25</td>\n",
        "      <td> 18.3</td>\n",
        "      <td>  7.1</td>\n",
        "      <td> 7.5</td>\n",
        "      <td> 14.6</td>\n",
        "      <td> 43.1</td>\n",
        "      <td>  6.9</td>\n",
        "      <td> 63.6</td>\n",
        "      <td> 26.0</td>\n",
        "      <td> 15.2</td>\n",
        "      <td>  70.1</td>\n",
        "      <td> 52.1</td>\n",
        "      <td> 29.7</td>\n",
        "      <td> 29.516667</td>\n",
        "    </tr>\n",
        "    <tr>\n",
        "      <th>3</th>\n",
        "      <td>-179.75</td>\n",
        "      <td> 67.75</td>\n",
        "      <td> 40.0</td>\n",
        "      <td> 12.3</td>\n",
        "      <td> 8.3</td>\n",
        "      <td> 19.3</td>\n",
        "      <td> 37.4</td>\n",
        "      <td> 18.4</td>\n",
        "      <td> 61.5</td>\n",
        "      <td> 54.3</td>\n",
        "      <td> 19.7</td>\n",
        "      <td>  94.3</td>\n",
        "      <td> 46.5</td>\n",
        "      <td> 36.5</td>\n",
        "      <td> 37.375000</td>\n",
        "    </tr>\n",
        "    <tr>\n",
        "      <th>4</th>\n",
        "      <td>-179.75</td>\n",
        "      <td> 67.25</td>\n",
        "      <td> 68.8</td>\n",
        "      <td> 18.6</td>\n",
        "      <td> 9.4</td>\n",
        "      <td> 25.6</td>\n",
        "      <td> 29.6</td>\n",
        "      <td> 36.1</td>\n",
        "      <td> 59.0</td>\n",
        "      <td> 87.0</td>\n",
        "      <td> 24.6</td>\n",
        "      <td> 130.1</td>\n",
        "      <td> 41.3</td>\n",
        "      <td> 47.7</td>\n",
        "      <td> 48.150000</td>\n",
        "    </tr>\n",
        "  </tbody>\n",
        "</table>\n",
        "<p>5 rows \u00d7 15 columns</p>\n",
        "</div>"
       ],
       "metadata": {},
       "output_type": "pyout",
       "prompt_number": 14,
       "text": [
        "   Longitude  Latitude  January  February  March  April   May  June  July  \\\n",
        "0    -179.75     71.25      0.0       2.3    5.5    3.5  38.9   0.0  35.8   \n",
        "1    -179.75     68.75     10.4       4.9    7.7   12.9  46.4   2.7  67.8   \n",
        "2    -179.75     68.25     18.3       7.1    7.5   14.6  43.1   6.9  63.6   \n",
        "3    -179.75     67.75     40.0      12.3    8.3   19.3  37.4  18.4  61.5   \n",
        "4    -179.75     67.25     68.8      18.6    9.4   25.6  29.6  36.1  59.0   \n",
        "\n",
        "   August  September  October  November  December  Annual Average  \n",
        "0    17.1        5.9     39.4      26.5      22.6       16.458333  \n",
        "1    13.3       14.5     59.8      57.3      27.5       27.100000  \n",
        "2    26.0       15.2     70.1      52.1      29.7       29.516667  \n",
        "3    54.3       19.7     94.3      46.5      36.5       37.375000  \n",
        "4    87.0       24.6    130.1      41.3      47.7       48.150000  \n",
        "\n",
        "[5 rows x 15 columns]"
       ]
      }
     ],
     "prompt_number": 14
    },
    {
     "cell_type": "code",
     "collapsed": false,
     "input": [
      "# Outputs individual csv files of only Longitude, Latitude, and Annual Average of precipitation\n",
      "\n",
      "for i,frame in enumerate(frames):\n",
      "    frame.to_csv(names[i],cols=['Longitude','Latitude','Annual Average'])"
     ],
     "language": "python",
     "metadata": {},
     "outputs": [],
     "prompt_number": 28
    },
    {
     "cell_type": "code",
     "collapsed": false,
     "input": [
      "# Given a range of years, generates dictionary of filenames for output csv files in \"names\" and dataframe objects in \"frames\"\n",
      "# More importantly, returns a single dataframe that contains the average for the variable called over the range of years defined\n",
      "def makeAvgFrame(variable,begin,end):\n",
      "    \"\"\"variable: 'precip' or 'air_temp', begin,end are years from 1900-2010 inclusive\"\"\"\n",
      "    \n",
      "#     names = {year: '../data/'+variable+'Avg/'+variable+str(year)+'.csv' for year in range(begin,end+1)}\n",
      "    frames = {year: pandaRead(variable,year) for year in range(begin,end+1)}\n",
      "    avg = pd.DataFrame(frames[begin]['Longitude'])\n",
      "    avg['Latitude'] = frames[begin]['Latitude']\n",
      "    for year in range(begin,end+1):\n",
      "        avg[str(year)+' Annual Average'] = frames[year]['Annual Average']\n",
      "    \n",
      "    return avg"
     ],
     "language": "python",
     "metadata": {},
     "outputs": [],
     "prompt_number": 45
    },
    {
     "cell_type": "code",
     "collapsed": false,
     "input": [
      "precipAvg2000to2005 = makeAvgFrame('precip',2000,2005)"
     ],
     "language": "python",
     "metadata": {},
     "outputs": [],
     "prompt_number": 48
    },
    {
     "cell_type": "code",
     "collapsed": false,
     "input": [
      "precipAvg2000to2005.to_csv('../data/precipAvg/precip_2000_to_2005.csv')"
     ],
     "language": "python",
     "metadata": {},
     "outputs": [],
     "prompt_number": 49
    },
    {
     "cell_type": "code",
     "collapsed": false,
     "input": [
      "air_tempAvg2000to2005 = makeAvgFrame('air_temp',2000,2005)"
     ],
     "language": "python",
     "metadata": {},
     "outputs": [],
     "prompt_number": 51
    },
    {
     "cell_type": "code",
     "collapsed": false,
     "input": [
      "air_tempAvg2000to2005.to_csv('../data/air_tempAvg/air_temp_2000_to_2005.csv')"
     ],
     "language": "python",
     "metadata": {},
     "outputs": [],
     "prompt_number": 52
    },
    {
     "cell_type": "code",
     "collapsed": false,
     "input": [],
     "language": "python",
     "metadata": {},
     "outputs": []
    }
   ],
   "metadata": {}
  }
 ]
}